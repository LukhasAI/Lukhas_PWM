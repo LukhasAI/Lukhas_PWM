{
 "cells": [
  {
   "cell_type": "markdown",
   "id": "c5b98a16",
   "metadata": {},
   "source": [
    "# Drift Prediction Example"
   ]
  },
  {
   "cell_type": "code",
   "execution_count": null,
   "id": "ecb56382",
   "metadata": {},
   "outputs": [],
   "source": [
    "from lukhas.tools.prediction import ProphetPredictor\n",
    "import pandas as pd\n",
    "\n",
    "history = pd.DataFrame({\n",
    "    'ds': pd.date_range('2025-01-01', periods=10, freq='D'),\n",
    "    'y': range(10)\n",
    "})\n",
    "\n",
    "predictor = ProphetPredictor()\n",
    "predictor.fit(history)\n",
    "forecast = predictor.predict(periods=5)\n",
    "forecast[['ds', 'yhat']].tail()\n"
   ]
  }
 ],
 "metadata": {},
 "nbformat": 4,
 "nbformat_minor": 5
}
